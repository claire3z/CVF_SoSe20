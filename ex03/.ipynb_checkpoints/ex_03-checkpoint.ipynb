{
 "cells": [
  {
   "cell_type": "markdown",
   "metadata": {},
   "source": [
    "### Working with Google Colaboratory\n",
    "If you decide to work with Google Colaboratory (recommended because it comes with `pyTorch` installed and the possibility to use GPU for computations), you need to run the next code block before you start working with the notebook.\n",
    "\n",
    "To get a better idea of what the code below is doing, have a look at this [introductory video](https://cs231n.github.io/setup-instructions/) from the CS231n Standford course.\n",
    "\n",
    "If you need to install additional packages on Google Colaboratory (it should not needed for this assignment) you can do it from the notebook with `!pip install name_package`"
   ]
  },
  {
   "cell_type": "code",
   "execution_count": null,
   "metadata": {},
   "outputs": [],
   "source": [
    "from google.colab import drive\n",
    "\n",
    "drive.mount('/content/drive', force_remount=True)\n",
    "\n",
    "# enter the foldername in your Drive where you have saved the material for this assignment,\n",
    "# e.g. 'cvf20/assignments/assignment3/'\n",
    "FOLDERNAME = None\n",
    "assert FOLDERNAME is not None, \"[!] Enter the foldername.\"\n",
    "\n",
    "# Make sure that the python modules in the assignment folder are found by the notebook:\n",
    "import sys\n",
    "import os\n",
    "path_drive = os.path.join(\"/content/drive/My\\ Drive\", FOLDERNAME)\n",
    "sys.path.append(path_drive)\n",
    "\n",
    "# Copy the yeast-cells data in the content folder of the notebook:\n",
    "dataset_path = os.path.join(path_drive, \"yeast_cells_dataset\") \n",
    "!cp -r $dataset_path ./\n",
    "\n",
    "# Move to the main content folder:\n",
    "%cd /content"
   ]
  },
  {
   "cell_type": "markdown",
   "metadata": {},
   "source": [
    "# 1. Parameters and Receptive Field of a CNN\n",
    "*Insert your answer here (or in a seperate `.pdf` file).*"
   ]
  },
  {
   "cell_type": "markdown",
   "metadata": {
    "pycharm": {
     "name": "#%% md\n"
    }
   },
   "source": [
    "# 2. Train a CNN for Semantic Segmentation (Part 1)"
   ]
  },
  {
   "cell_type": "code",
   "execution_count": 2,
   "metadata": {
    "pycharm": {
     "name": "#%%\n"
    }
   },
   "outputs": [],
   "source": [
    "# The usual first imports:\n",
    "import matplotlib.pyplot as plt\n",
    "%matplotlib inline\n",
    "%load_ext autoreload\n",
    "%autoreload 2\n",
    "import numpy as np\n",
    "import scipy.ndimage\n",
    "plt.rcParams['figure.figsize'] = [15, 15]\n",
    "\n",
    "import torch\n",
    "import h5py\n",
    "import os"
   ]
  },
  {
   "cell_type": "markdown",
   "metadata": {},
   "source": [
    "### a) Loading the data\n",
    "You can find the data in the `yeast_cells_dataset` folder, including both the input images and associated ground labels. In this first part of the exercise, we want to create a single file called `yeast_cells_dataset/dataset.hdf5` with the following specifications:\n",
    "\n",
    "- the HDF5 file should have two internal datasets called `raw` and `gt` (see a quick introduction [here](http://docs.h5py.org/en/stable/quick.html) if you have never used the library `h5py`)\n",
    "- each dataset should have 3 dimensions with shape (nb_images, x_shape, y_shape) = (18, 920, 1760): the first dimension represents the image index (there are 18 images in total), whereas the second and third ones are equal to the resolution of the images.\n",
    "- When you create the datasets with the h5py `create_dataset()` function, make sure to use the argument `compression='gzip'` so that the resulting file has a small size\n",
    "\n",
    "Implement the function below and then test it with `check_dataset()`.\n",
    "\n",
    "**Important**: if the `.hdf5` files you create are too big, you don't need to include them in your submission (same for the folder with the `.png` images). However, your notebook should show all your results and your plots. If we need to re-run your notebook, we will make sure that the original `yeast_cells_dataset` folder with the `.png` images is found."
   ]
  },
  {
   "cell_type": "code",
   "execution_count": 15,
   "metadata": {
    "pycharm": {
     "name": "#%%\n"
    },
    "scrolled": false
   },
   "outputs": [
    {
     "name": "stdout",
     "output_type": "stream",
     "text": [
      "Hdf5 dataset correctly created!\n"
     ]
    }
   ],
   "source": [
    "def create_hdf5_dataset():\n",
    "    ### Start of your code ###\n",
    "    pass\n",
    "    ### End of your code ###\n",
    "\n",
    "\n",
    "def check_dataset():\n",
    "    path = './yeast_cells_dataset/dataset.hdf5'\n",
    "    assert os.path.exists(path), \"Dataset does not exists\"\n",
    "    \n",
    "    with h5py.File(path, 'r') as f:\n",
    "        assert \"raw\" in f, \"Raw dataset not found in .hdf5 file\"\n",
    "        assert \"gt\" in f, \"GT dataset not found in .hdf5 file\"\n",
    "        assert f[\"raw\"].ndim == 3, \"Wrong nb of dimensions\"\n",
    "        assert f[\"gt\"].ndim == 3, \"Wrong nb of dimensions\"\n",
    "        assert f[\"raw\"].shape == (18, 920, 1760), \"Wrong shape\"\n",
    "        assert f[\"gt\"].shape == (18, 920, 1760), \"Wrong shape\"\n",
    "        \n",
    "    print(\"Hdf5 dataset correctly created!\")\n",
    "\n",
    "        \n",
    "create_hdf5_dataset()\n",
    "check_dataset()"
   ]
  },
  {
   "cell_type": "markdown",
   "metadata": {},
   "source": [
    "### b) Normalization\n",
    "Complete the code below to normalize the dataset and after doing it print the mean and the standard deviation before and after normalizing it."
   ]
  },
  {
   "cell_type": "code",
   "execution_count": null,
   "metadata": {},
   "outputs": [],
   "source": [
    "def normalize_hdf5_dataset():\n",
    "    \"\"\"\n",
    "    TODO: print the mean and the standard deviation before and after normalizing the raw data\n",
    "    \"\"\"\n",
    "    original_path = './yeast_cells_dataset/dataset.hdf5'\n",
    "    new_path = './yeast_cells_dataset/dataset_normalized.hdf5'\n",
    "    ### Start of your code ###\n",
    "    pass\n",
    "    ### End of your code ###\n",
    "\n",
    "normalize_hdf5_dataset()"
   ]
  },
  {
   "cell_type": "markdown",
   "metadata": {},
   "source": [
    "### c) Data augmentation\n",
    "**Task 1** -- We first want to create a `PyTorch` dataset from the data we loaded previously, using the `torch.utils.data.dataset` class.\n",
    "\n",
    "When we train our CNN model, we want to first crop the yeast-cells images to a fixed shape of $(512x512)$. The classes `ImagesFromH5File` and `YeastCellDataset` (see the `cvf20/datasets.py` file) are exactly doing that and expects the path to a `.hdf5` file like the one you created previously. \n",
    "\n",
    "Read the documentation of the `YeastCellDataset` class (see `cvf20/datasets.py`) and create the PyTorch dataset in the code below. As `stride`, you can use (32, 32)."
   ]
  },
  {
   "cell_type": "code",
   "execution_count": 39,
   "metadata": {
    "pycharm": {
     "name": "#%%\n"
    },
    "scrolled": false
   },
   "outputs": [],
   "source": [
    "from cvf20.datasets import YeastCellDataset\n",
    "\n",
    "### Start of your code ###\n",
    "# dataset = YeastCellDataset(...)\n",
    "dataset = None\n",
    "pass\n",
    "### End of your code ###\n",
    "\n",
    "\n",
    "# Validate your code and plot some images:\n",
    "if dataset is not None:\n",
    "    assert dataset[0][0].shape == (512, 512)\n",
    "\n",
    "    f, ax = plt.subplots(ncols=2, nrows=2)\n",
    "    ax[0,0].imshow(dataset[0][0], cmap='gray')\n",
    "    ax[0,1].imshow(dataset[0][1], cmap='gray')\n",
    "    ax[1,0].imshow(dataset[1][0], cmap='gray')\n",
    "    ax[1,1].imshow(dataset[1][1], cmap='gray')\n",
    "    plt.show()\n"
   ]
  },
  {
   "cell_type": "markdown",
   "metadata": {},
   "source": [
    "**Task 2** -- Now that you created the dataset, let's add some more data augmentation to it!\n",
    "\n",
    "In the `cvf20/transforms.py` file you can find an example of transformation you should implement: the class `DownscaleImage` is, as you would expect, downscaling an image by a given factor (by first applying a filter to it). Tranformations are usually not applied to all images in the dataset, but they are randomly applied with a certain probability. In order to understand the functionality of the `build_random_variables()` method you can have a look at the parent tranform class `BasicTransform2D` (also in `cvf20/transforms.py`).\n",
    "\n",
    "In the code block below, implement two additional transformations that should: i) reflect an image along x and/or along y with probability 0.5; ii) randomly rotate an image of a multiple of 90 degrees. In the next code block, you can plot some images and check if your transformations are applied correctly."
   ]
  },
  {
   "cell_type": "code",
   "execution_count": 21,
   "metadata": {},
   "outputs": [],
   "source": [
    "import cvf20.transforms as T\n",
    "\n",
    "class RandomFlip(T.BasicTransform2D):\n",
    "    def build_random_variables(self):\n",
    "        ### Start of your code ###\n",
    "        pass\n",
    "        ### End of your code ###\n",
    "        \n",
    "    def apply_transform_to_image(self, image):\n",
    "        assert image.ndim == 2\n",
    "\n",
    "        ### Start of your code ###\n",
    "        pass\n",
    "        ### End of your code ###\n",
    "\n",
    "        return image\n",
    "\n",
    "\n",
    "class RandomRotation(T.BasicTransform2D):\n",
    "    def build_random_variables(self):\n",
    "        ### Start of your code ###\n",
    "        pass\n",
    "        ### End of your code ###\n",
    "\n",
    "    def apply_transform_to_image(self, image):\n",
    "        assert image.ndim == 2\n",
    "\n",
    "        ### Start of your code ###\n",
    "        pass\n",
    "        ### End of your code ###\n",
    "\n",
    "        return image\n",
    "    \n",
    "all_transforms = T.Compose(\n",
    "    RandomFlip(),\n",
    "    RandomRotation()\n",
    ")"
   ]
  },
  {
   "cell_type": "code",
   "execution_count": 40,
   "metadata": {},
   "outputs": [],
   "source": [
    "from cvf20.datasets import YeastCellDataset\n",
    "\n",
    "### Start of your code ###\n",
    "dataset_with_transforms = None\n",
    "pass\n",
    "### End of your code ###\n",
    "\n",
    "# Validate your code and plot some images:\n",
    "if dataset_with_transforms is not None:\n",
    "    assert dataset_with_transforms[0][0].shape == (512, 512)\n",
    "\n",
    "    f, ax = plt.subplots(ncols=4)\n",
    "    ax[0].imshow(dataset_with_transforms[0][0], cmap='gray')\n",
    "    ax[1].imshow(dataset_with_transforms[0][0], cmap='gray')\n",
    "    ax[2].imshow(dataset_with_transforms[0][0], cmap='gray')\n",
    "    ax[3].imshow(dataset_with_transforms[0][0], cmap='gray')\n",
    "    plt.show()\n"
   ]
  },
  {
   "cell_type": "markdown",
   "metadata": {},
   "source": [
    "**Task 3** -- Finally, we will now create a PyTorch `DataLoader` that will take care of randomly selecting some of the crops in the dataset. The shape of the PyTorch tensors that we will feed to the neural network is the following: `(batch_size, nb_channels, x_size, y_size)`. The dimension of the tensor is 4 because we are dealing with 2D images.  `nb_channels` for the input image is 1, because it has only one channel."
   ]
  },
  {
   "cell_type": "code",
   "execution_count": 28,
   "metadata": {},
   "outputs": [],
   "source": [
    "from torch.utils.data.dataloader import DataLoader\n",
    "\n",
    "all_transforms = T.Compose(\n",
    "    RandomFlip(),\n",
    "    RandomRotation(),\n",
    "    T.ToTorchTensor()\n",
    ")\n",
    "\n",
    "### Start of your code ###\n",
    "dataset_with_transforms = None\n",
    "pass\n",
    "### End of your code ###\n",
    "\n",
    "# Create the data loader:\n",
    "assert dataset_with_transforms is not None\n",
    "dataset_loader = DataLoader(\n",
    "        dataset_with_transforms, \n",
    "        batch_size=4,\n",
    "        shuffle=True,\n",
    "        drop_last=True,\n",
    "        num_workers=2\n",
    ")\n",
    "\n",
    "# Validate your code:\n",
    "for raw, gt in dataset_loader:\n",
    "    assert isinstance(raw, torch.Tensor)\n",
    "    assert raw.shape == (4,1,512,512)"
   ]
  },
  {
   "cell_type": "markdown",
   "metadata": {},
   "source": [
    "### d) Semantic Segmentation Metrics\n",
    "In the code below, implement the two metrics described in the exercise sheet. After implementing it, run the next code block to test your functions on a small 5x5 image.\n",
    "\n",
    "*Remark*: now the images (prediction of the CNN model and ground truth labels) are `PyTorch` tensors and not `numpy` arrays. Most of the functions in `PyTorch` to perform matrix and vector operations are very similar to the ones you used in `numpy`."
   ]
  },
  {
   "cell_type": "code",
   "execution_count": 32,
   "metadata": {},
   "outputs": [],
   "source": [
    "def compute_accuracy(predictions, targets):\n",
    "    \"\"\"\n",
    "    The shape of both `predictions` and `targets` should be (batch_size, nb_classes, x_size_image, y_size_image)\n",
    "    \"\"\"\n",
    "    assert isinstance(predictions, torch.Tensor)\n",
    "    assert isinstance(targets, torch.Tensor)\n",
    "    assert predictions.ndim == 4 and targets.ndim == 4\n",
    "    \n",
    "    ### Start of your code ###\n",
    "    accuracy = None\n",
    "    pass\n",
    "    ### End of your code ###\n",
    "    \n",
    "    return accuracy\n",
    "    \n",
    "\n",
    "def compute_IoU(predictions, targets):\n",
    "    \"\"\"\n",
    "    The shape of both `predictions` and `targets` should be (batch_size, nb_classes, x_size_image, y_size_image)\n",
    "    \"\"\"\n",
    "    assert isinstance(predictions, torch.Tensor)\n",
    "    assert isinstance(targets, torch.Tensor)\n",
    "    assert predictions.ndim == 4 and targets.ndim == 4\n",
    "    \n",
    "    ### Start of your code ###\n",
    "    IoU = None\n",
    "    pass\n",
    "    ### End of your code ###\n",
    "    \n",
    "    return IoU"
   ]
  },
  {
   "cell_type": "code",
   "execution_count": 38,
   "metadata": {},
   "outputs": [
    {
     "name": "stdout",
     "output_type": "stream",
     "text": [
      "None\n",
      "None\n"
     ]
    }
   ],
   "source": [
    "# Create a small 5x5 example to test the metrics above:\n",
    "test_pred, test_gt = torch.zeros((2,5,5)), torch.zeros((2,5,5))\n",
    "test_pred[0,0,:3] = 0.8\n",
    "test_gt[0,0,2:] = 1\n",
    "test_pred[1] = 1. - test_pred[0]\n",
    "test_gt[1] = 1. - test_gt[0]\n",
    "test_pred = test_pred.unsqueeze(0)\n",
    "test_gt = test_gt.unsqueeze(0)\n",
    "\n",
    "print(compute_accuracy(test_pred, test_gt))\n",
    "print(compute_IoU(test_pred, test_gt))"
   ]
  }
 ],
 "metadata": {
  "kernelspec": {
   "display_name": "Python 3",
   "language": "python",
   "name": "python3"
  },
  "language_info": {
   "codemirror_mode": {
    "name": "ipython",
    "version": 3
   },
   "file_extension": ".py",
   "mimetype": "text/x-python",
   "name": "python",
   "nbconvert_exporter": "python",
   "pygments_lexer": "ipython3",
   "version": "3.7.6"
  }
 },
 "nbformat": 4,
 "nbformat_minor": 1
}
